{
  "nbformat": 4,
  "nbformat_minor": 0,
  "metadata": {
    "colab": {
      "provenance": []
    },
    "kernelspec": {
      "name": "python3",
      "display_name": "Python 3"
    },
    "language_info": {
      "name": "python"
    }
  },
  "cells": [
    {
      "cell_type": "code",
      "source": [
        "import pandas as pd\n",
        "import matplotlib.pyplot as plt\n",
        "import seaborn as sns\n",
        "import networkx as nx\n",
        "import squarify\n",
        "from datetime import datetime\n",
        "import matplotlib.colors as mcolors\n",
        "\n",
        "# Set seaborn style for professional look\n",
        "sns.set_style(\"whitegrid\")\n",
        "\n",
        "# Load the CSV data\n",
        "df = pd.read_csv('/content/output.csv')  # Replace 'your_file.csv' with the actual file path\n",
        "\n",
        "# Convert event_timestamp from microseconds to datetime\n",
        "try:\n",
        "    df['event_timestamp'] = pd.to_datetime(df['event_timestamp'], unit='us', errors='coerce')\n",
        "except Exception as e:\n",
        "    print(f\"Error converting timestamps: {e}\")\n",
        "    df['event_timestamp'] = pd.to_datetime(df['event_timestamp'], unit='us', errors='coerce')\n",
        "\n",
        "# Drop rows with invalid timestamps\n",
        "df = df.dropna(subset=['event_timestamp'])\n",
        "\n",
        "# 1. Bar Chart (UI Usage Statistics)\n",
        "plt.figure(figsize=(10, 6), dpi=300)\n",
        "spatial_search_count = len(df[df['event_name'].str.contains('lookup', case=False, na=False)])\n",
        "opacity_change_count = 0  # No opacity change events\n",
        "button_clicks = df[df['event_name'].isin(['click', 'nodes_selected', 'nodes_selected_by_ids'])].groupby('event_label').size().sort_values(ascending=False)\n",
        "categories = ['Spatial Search (EUI)', 'Opacity Change (RUI)'] + button_clicks.index[:3].tolist() + [button_clicks.index[-1]]\n",
        "values = [spatial_search_count, opacity_change_count] + button_clicks[:3].tolist() + [button_clicks[-1]]\n",
        "plt.bar(categories, values, color=['blue', 'green', 'red', 'red', 'red', 'red'])\n",
        "plt.title('UI Usage Statistics', fontsize=14, pad=10)\n",
        "plt.xlabel('Event Type', fontsize=12)\n",
        "plt.ylabel('Frequency', fontsize=12)\n",
        "plt.xticks(rotation=45, ha='right', fontsize=10)\n",
        "for i, v in enumerate(values):\n",
        "    plt.text(i, v + 5, str(v), ha='center', fontsize=10)\n",
        "plt.tight_layout()\n",
        "plt.savefig('ui_usage_statistics.png', bbox_inches='tight')\n",
        "plt.close()\n",
        "\n",
        "# 2. Line Chart (Event Distribution Over Time) - Improved\n",
        "plt.figure(figsize=(10, 6), dpi=300)\n",
        "# Resample by hour to create a time series (adjust to 'D' for daily if more data available)\n",
        "temporal_df = df.groupby([pd.Grouper(key='event_timestamp', freq='H'), 'event_name']).size().unstack(fill_value=0)\n",
        "# Limit to top 5 events by total frequency to reduce clutter\n",
        "top_events = df['event_name'].value_counts().head(5).index\n",
        "temporal_df = temporal_df[top_events]\n",
        "# Plot as a line chart\n",
        "ax = temporal_df.plot(kind='line', marker='o', linewidth=2, ax=plt.gca())\n",
        "plt.title('Event Distribution Over Time (Hourly)', fontsize=14, pad=10)\n",
        "plt.xlabel('Time', fontsize=12)\n",
        "plt.ylabel('Event Count', fontsize=12)\n",
        "plt.legend(title='Event Name', title_fontsize=10, fontsize=8, bbox_to_anchor=(1.05, 1), loc='upper left')\n",
        "plt.grid(True, linestyle='--', alpha=0.7)\n",
        "# Format x-axis as datetime\n",
        "plt.gcf().autofmt_xdate()\n",
        "plt.xticks(fontsize=10)\n",
        "plt.tight_layout()\n",
        "plt.savefig('event_distribution_over_time.png', bbox_inches='tight')\n",
        "plt.close()\n",
        "# 3. Heat Map (UI Interaction Heat Map)\n",
        "plt.figure(figsize=(8, 6), dpi=300)\n",
        "spatial_df = df[df['event_category'] == 'interaction'].groupby('event_label').size().reset_index(name='counts')\n",
        "positions = {'Biomarkers': (0, 4), 'body': (1, 3), 'cell': (2, 2), 'Sex:Both': (3, 1), 'mdc-button__label': (4, 0)}\n",
        "heat_data = pd.DataFrame(index=range(5), columns=range(5)).fillna(0)\n",
        "for label, count in zip(spatial_df['event_label'], spatial_df['counts']):\n",
        "    if label in positions:\n",
        "        row, col = positions[label]\n",
        "        heat_data.iloc[row, col] = count\n",
        "sns.heatmap(heat_data, annot=True, fmt='d', cmap='YlOrRd', cbar_kws={'label': 'Click Frequency'}, annot_kws={\"size\": 10})\n",
        "plt.title('UI Interaction Heat Map', fontsize=14, pad=10)\n",
        "plt.xlabel('Column', fontsize=12)\n",
        "plt.ylabel('Row', fontsize=12)\n",
        "plt.tight_layout()\n",
        "plt.savefig('ui_interaction_heat_map.png', bbox_inches='tight')\n",
        "plt.close()\n",
        "\n",
        "# 4. Directed Graph (User Event State Graph)\n",
        "plt.figure(figsize=(8, 8), dpi=300)\n",
        "G = nx.DiGraph()\n",
        "user_df = df[df['user_pseudo_id'] == 1038633330.0].sort_values('event_timestamp')\n",
        "for i in range(len(user_df) - 1):\n",
        "    source = user_df.iloc[i]['event_name']\n",
        "    target = user_df.iloc[i + 1]['event_name']\n",
        "    if G.has_edge(source, target):\n",
        "        G[source][target]['weight'] += 1\n",
        "    else:\n",
        "        G.add_edge(source, target, weight=1)\n",
        "pos = nx.circular_layout(G)\n",
        "nx.draw(G, pos, with_labels=True, node_color='lightblue', node_size=2000, arrowstyle='->', arrowsize=20, width=[d['weight'] for (u, v, d) in G.edges(data=True)])\n",
        "edge_labels = {(u, v): d['weight'] for (u, v, d) in G.edges(data=True)}\n",
        "nx.draw_networkx_edge_labels(G, pos, edge_labels=edge_labels, font_size=10)\n",
        "plt.title('User Event State Graph (User 1038633330.0)', fontsize=14, pad=10)\n",
        "plt.axis('off')\n",
        "plt.tight_layout()\n",
        "plt.savefig('user_event_state_graph.png', bbox_inches='tight')\n",
        "plt.close()\n",
        "\n",
        "# 5. Treemap (Improved Event Category Distribution)\n",
        "# Filter to top 10 most frequent event categories/labels to avoid clutter\n",
        "plt.figure(figsize=(12, 8), dpi=300)\n",
        "treemap_df = df.groupby(['event_category', 'event_label']).size().reset_index(name='counts')\n",
        "# Sort by counts and take top 10\n",
        "treemap_df = treemap_df.sort_values('counts', ascending=False).head(10)\n",
        "# Simplify labels and wrap text for readability\n",
        "labels = [f\"{cat[:10]}...\\n{label[:10]}...\\n{count}\" if len(cat) > 10 or len(label) > 10 else f\"{cat}\\n{label}\\n{count}\"\n",
        "          for cat, label, count in zip(treemap_df['event_category'].fillna('Unknown'),\n",
        "                                       treemap_df['event_label'].fillna('Unknown'),\n",
        "                                       treemap_df['counts'])]\n",
        "# Use a color palette for better distinction\n",
        "colors = sns.color_palette(\"Set2\", len(treemap_df))\n",
        "squarify.plot(sizes=treemap_df['counts'], label=labels, color=colors, alpha=0.7, text_kwargs={'fontsize': 10, 'wrap': True})\n",
        "plt.title('Top 10 Event Category Distribution', fontsize=14, pad=10)\n",
        "plt.axis('off')\n",
        "plt.tight_layout()\n",
        "plt.savefig('event_category_treemap.png', bbox_inches='tight')\n",
        "plt.close()\n",
        "\n",
        "# 6. Bubble Chart (Event Impact) - Fixed Color Issue\n",
        "plt.figure(figsize=(10, 6), dpi=300)\n",
        "df['next_timestamp'] = df['event_timestamp'].shift(-1)\n",
        "df['duration'] = (df['next_timestamp'] - df['event_timestamp']).dt.total_seconds().fillna(0)\n",
        "bubble_df = df.groupby('event_name').agg({'event_name': 'count', 'duration': 'mean'}).rename(columns={'event_name': 'frequency'})\n",
        "# Dynamically generate colors based on the number of unique event names\n",
        "num_events = len(bubble_df)\n",
        "colors = list(mcolors.TABLEAU_COLORS.keys()) + list(mcolors.CSS4_COLORS.keys())\n",
        "colors = colors[:num_events]  # Ensure we have enough colors\n",
        "plt.scatter(bubble_df['duration'], bubble_df['frequency'], s=bubble_df['frequency']*5, c=colors, alpha=0.6)\n",
        "for i, txt in enumerate(bubble_df.index):\n",
        "    plt.annotate(txt, (bubble_df['duration'][i], bubble_df['frequency'][i]), xytext=(5, 5), textcoords='offset points', fontsize=8)\n",
        "plt.title('Event Impact Analysis', fontsize=14, pad=10)\n",
        "plt.xlabel('Average Duration (seconds)', fontsize=12)\n",
        "plt.ylabel('Frequency', fontsize=12)\n",
        "plt.grid(True, linestyle='--', alpha=0.7)\n",
        "plt.tight_layout()\n",
        "plt.savefig('event_impact_bubble_chart.png', bbox_inches='tight')\n",
        "plt.close()\n",
        "\n",
        "print(\"Visualizations saved as PNG files in the current directory.\")"
      ],
      "metadata": {
        "colab": {
          "base_uri": "https://localhost:8080/"
        },
        "id": "4BMmyU2Wx1wu",
        "outputId": "97841456-e6f4-4a4c-c5d6-7903ead2a358"
      },
      "execution_count": null,
      "outputs": [
        {
          "output_type": "stream",
          "name": "stderr",
          "text": [
            "<ipython-input-13-85cbeed3cc36>:31: FutureWarning: Series.__getitem__ treating keys as positions is deprecated. In a future version, integer keys will always be treated as labels (consistent with DataFrame behavior). To access a value by position, use `ser.iloc[pos]`\n",
            "  values = [spatial_search_count, opacity_change_count] + button_clicks[:3].tolist() + [button_clicks[-1]]\n",
            "<ipython-input-13-85cbeed3cc36>:46: FutureWarning: 'H' is deprecated and will be removed in a future version, please use 'h' instead.\n",
            "  temporal_df = df.groupby([pd.Grouper(key='event_timestamp', freq='H'), 'event_name']).size().unstack(fill_value=0)\n",
            "<ipython-input-13-85cbeed3cc36>:67: FutureWarning: Downcasting object dtype arrays on .fillna, .ffill, .bfill is deprecated and will change in a future version. Call result.infer_objects(copy=False) instead. To opt-in to the future behavior, set `pd.set_option('future.no_silent_downcasting', True)`\n",
            "  heat_data = pd.DataFrame(index=range(5), columns=range(5)).fillna(0)\n",
            "<ipython-input-13-85cbeed3cc36>:97: UserWarning: This figure includes Axes that are not compatible with tight_layout, so results might be incorrect.\n",
            "  plt.tight_layout()\n",
            "<ipython-input-13-85cbeed3cc36>:132: FutureWarning: Series.__getitem__ treating keys as positions is deprecated. In a future version, integer keys will always be treated as labels (consistent with DataFrame behavior). To access a value by position, use `ser.iloc[pos]`\n",
            "  plt.annotate(txt, (bubble_df['duration'][i], bubble_df['frequency'][i]), xytext=(5, 5), textcoords='offset points', fontsize=8)\n"
          ]
        },
        {
          "output_type": "stream",
          "name": "stdout",
          "text": [
            "Visualizations saved as PNG files in the current directory.\n"
          ]
        }
      ]
    },
    {
      "cell_type": "code",
      "source": [
        "# 6. Stacked Area Chart (Event Impact Over Time)\n",
        "plt.figure(figsize=(10, 6), dpi=300)\n",
        "# Aggregate event frequency by date and event name\n",
        "stacked_df = df.groupby([df['event_timestamp'].dt.date, 'event_name']).size().unstack(fill_value=0)\n",
        "# Normalize dates for plotting\n",
        "stacked_df.index = pd.to_datetime(stacked_df.index)\n",
        "# Plot stacked area chart\n",
        "stacked_df.plot(kind='area', stacked=True, alpha=0.7, colormap='tab20')\n",
        "plt.title('Event Impact Over Time', fontsize=14, pad=10)\n",
        "plt.xlabel('Date', fontsize=12)\n",
        "plt.ylabel('Event Frequency', fontsize=12)\n",
        "plt.legend(title='Event Name', title_fontsize=10, fontsize=8, bbox_to_anchor=(1.05, 1), loc='upper left')\n",
        "plt.grid(True, linestyle='--', alpha=0.7)\n",
        "plt.xticks(rotation=45, fontsize=10)\n",
        "plt.tight_layout()\n",
        "plt.savefig('event_impact_stacked_area.png', bbox_inches='tight')\n",
        "plt.close()"
      ],
      "metadata": {
        "colab": {
          "base_uri": "https://localhost:8080/",
          "height": 34
        },
        "id": "-Y1jlQ4wx2M1",
        "outputId": "c41c0d88-27f3-4ecc-9f74-0daa9573d4d2"
      },
      "execution_count": null,
      "outputs": [
        {
          "output_type": "display_data",
          "data": {
            "text/plain": [
              "<Figure size 3000x1800 with 0 Axes>"
            ]
          },
          "metadata": {}
        }
      ]
    }
  ]
}